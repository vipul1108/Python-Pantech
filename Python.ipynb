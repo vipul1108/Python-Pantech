{
  "nbformat": 4,
  "nbformat_minor": 0,
  "metadata": {
    "colab": {
      "provenance": [],
      "collapsed_sections": [],
      "authorship_tag": "ABX9TyPNAH0dPsvHr0zfSwptYZhX",
      "include_colab_link": true
    },
    "kernelspec": {
      "name": "python3",
      "display_name": "Python 3"
    },
    "language_info": {
      "name": "python"
    }
  },
  "cells": [
    {
      "cell_type": "markdown",
      "metadata": {
        "id": "view-in-github",
        "colab_type": "text"
      },
      "source": [
        "<a href=\"https://colab.research.google.com/github/vipul1108/Python-Pantech/blob/main/Python.ipynb\" target=\"_parent\"><img src=\"https://colab.research.google.com/assets/colab-badge.svg\" alt=\"Open In Colab\"/></a>"
      ]
    },
    {
      "cell_type": "code",
      "execution_count": 2,
      "metadata": {
        "id": "WlAXRmAtCLTU"
      },
      "outputs": [],
      "source": []
    },
    {
      "cell_type": "markdown",
      "source": [
        "#Basic Python \n"
      ],
      "metadata": {
        "id": "NLbgvBgDC13H"
      }
    },
    {
      "cell_type": "markdown",
      "source": [
        "##1.Arithmetic Operations"
      ],
      "metadata": {
        "id": "Hc_RPDx7DAGF"
      }
    },
    {
      "cell_type": "code",
      "source": [
        "a=5\n",
        "b=6\n",
        "c=a+b\n",
        "print(c)"
      ],
      "metadata": {
        "colab": {
          "base_uri": "https://localhost:8080/",
          "height": 0
        },
        "id": "RVQqJLgLDBwA",
        "outputId": "2729da22-f8c3-4a25-ae98-c51fc216a0e7"
      },
      "execution_count": 3,
      "outputs": [
        {
          "output_type": "stream",
          "name": "stdout",
          "text": [
            "11\n"
          ]
        }
      ]
    },
    {
      "cell_type": "code",
      "source": [
        "d=a*b\n",
        "print(d)"
      ],
      "metadata": {
        "colab": {
          "base_uri": "https://localhost:8080/",
          "height": 0
        },
        "id": "9A58GBPuDfM3",
        "outputId": "33a0cb8c-ef47-4478-ffb6-d60b6be8dcdc"
      },
      "execution_count": 4,
      "outputs": [
        {
          "output_type": "stream",
          "name": "stdout",
          "text": [
            "30\n"
          ]
        }
      ]
    },
    {
      "cell_type": "markdown",
      "source": [
        "##Simple Arithmetic - Get input from user"
      ],
      "metadata": {
        "id": "yG8dli4LFo4S"
      }
    },
    {
      "cell_type": "code",
      "source": [
        "a=int(input(\"Enter the Value of a: \"))\n",
        "b=int(input(\"Enter the Value of b: \"))\n",
        "add=a+b\n",
        "sub=a-b\n",
        "div=a/b\n",
        "mul=a*b\n",
        "mod=a%b\n",
        "print(\"Addition: {0}, Substraction: {1}, Division: {2}, Multiplication: {3}, Modulus: {4}\".format(add, sub, div, mul, mod)) #print using .format()\n",
        "print(\"Addition: %d, Substraction: %d, Division: %25.3f, Multiplication: %d, Modulus: %d\"%(add, sub, div, mul, mod)) #print using PADDING and PRECISION\n"
      ],
      "metadata": {
        "colab": {
          "base_uri": "https://localhost:8080/",
          "height": 0
        },
        "id": "kBZyjuMwF0Ni",
        "outputId": "44a9c76a-3671-4260-a180-bcd2e26ae00e"
      },
      "execution_count": 5,
      "outputs": [
        {
          "output_type": "stream",
          "name": "stdout",
          "text": [
            "Enter the Value of a: 45\n",
            "Enter the Value of b: 5\n",
            "Addition: 50, Substraction: 40, Division: 9.0, Multiplication: 225, Modulus: 0\n",
            "Addition: 50, Substraction: 40, Division:                     9.000, Multiplication: 225, Modulus: 0\n"
          ]
        }
      ]
    },
    {
      "cell_type": "code",
      "source": [
        "print(' | {0:<4} | {1:<4} | {2:<4} | {3:>4} | '.format('ADD', 'SUB', 'DIV', 'MUL'))\n",
        "print(' | {0:<4} | {1:<4} | {2:<4} | {3:>4} | '.format(add, sub, div, mul))"
      ],
      "metadata": {
        "id": "mK3lC2fHHFhq",
        "colab": {
          "base_uri": "https://localhost:8080/",
          "height": 0
        },
        "outputId": "b25e2c95-fe18-402e-dabd-ebe0ed3466bb"
      },
      "execution_count": 13,
      "outputs": [
        {
          "output_type": "stream",
          "name": "stdout",
          "text": [
            " | ADD  | SUB  | DIV  |  MUL | \n",
            " | 50   | 40   | 9.0  |  225 | \n"
          ]
        }
      ]
    },
    {
      "cell_type": "markdown",
      "source": [
        "##Simple Arithmetic - Get input from User (Power)"
      ],
      "metadata": {
        "id": "kPrS6Q4uSMAY"
      }
    },
    {
      "cell_type": "code",
      "source": [
        "a=2\n",
        "b=3\n",
        "power=a**b #power\n",
        "print(power)"
      ],
      "metadata": {
        "colab": {
          "base_uri": "https://localhost:8080/",
          "height": 0
        },
        "id": "YUZl3DMcSYoQ",
        "outputId": "7e547809-2ab5-43e7-abdb-30ff25152268"
      },
      "execution_count": 15,
      "outputs": [
        {
          "output_type": "stream",
          "name": "stdout",
          "text": [
            "8\n"
          ]
        }
      ]
    },
    {
      "cell_type": "code",
      "source": [
        "a=2\n",
        "b=2\n",
        "power=a**b\n",
        "print(power)"
      ],
      "metadata": {
        "colab": {
          "base_uri": "https://localhost:8080/",
          "height": 0
        },
        "id": "keXx5tScSol5",
        "outputId": "271f126b-465d-4a8f-f046-aeef907f8a87"
      },
      "execution_count": 16,
      "outputs": [
        {
          "output_type": "stream",
          "name": "stdout",
          "text": [
            "4\n"
          ]
        }
      ]
    },
    {
      "cell_type": "markdown",
      "source": [
        "##2.Strings"
      ],
      "metadata": {
        "id": "oP4MhbluTIjA"
      }
    },
    {
      "cell_type": "markdown",
      "source": [
        "###Creating a String"
      ],
      "metadata": {
        "id": "tcx9sWb_T3sP"
      }
    },
    {
      "cell_type": "code",
      "source": [
        "a = 'Vipul'\n",
        "b = 'Patil'\n",
        "print(a)\n",
        "print(b)"
      ],
      "metadata": {
        "colab": {
          "base_uri": "https://localhost:8080/",
          "height": 0
        },
        "id": "Ycyuf2uaTKjs",
        "outputId": "3ef42a27-7028-4ba7-a621-738e5296578a"
      },
      "execution_count": 17,
      "outputs": [
        {
          "output_type": "stream",
          "name": "stdout",
          "text": [
            "Vipul\n",
            "Patil\n"
          ]
        }
      ]
    },
    {
      "cell_type": "markdown",
      "source": [
        "###String Concatenation\n",
        "\n",
        "\n",
        "*   Spaces are counted in a string\n",
        "\n"
      ],
      "metadata": {
        "id": "8NZf50oXUPrq"
      }
    },
    {
      "cell_type": "code",
      "source": [
        "a = 'Vipul'\n",
        "b = \"Patil\"\n",
        "string = a+b\n",
        "print(string)"
      ],
      "metadata": {
        "colab": {
          "base_uri": "https://localhost:8080/",
          "height": 0
        },
        "id": "CvUVNdJQUMHu",
        "outputId": "7e0c628a-159f-46f7-fa85-3df43e0eeb8f"
      },
      "execution_count": 27,
      "outputs": [
        {
          "output_type": "stream",
          "name": "stdout",
          "text": [
            "VipulPatil\n"
          ]
        }
      ]
    },
    {
      "cell_type": "code",
      "source": [
        "a = 'Vipul'\n",
        "b = \" Patil\" #space before P\n",
        "string = a+b\n",
        "print(string)"
      ],
      "metadata": {
        "colab": {
          "base_uri": "https://localhost:8080/",
          "height": 0
        },
        "id": "hDuVUlTeUn24",
        "outputId": "7528252c-fe0c-4459-d68e-915643f280a2"
      },
      "execution_count": 28,
      "outputs": [
        {
          "output_type": "stream",
          "name": "stdout",
          "text": [
            "Vipul Patil\n"
          ]
        }
      ]
    },
    {
      "cell_type": "markdown",
      "source": [
        "###Length of String"
      ],
      "metadata": {
        "id": "Xu5WNlVOU8PS"
      }
    },
    {
      "cell_type": "code",
      "source": [
        "a = \"Vipul\"\n",
        "len(a) #len() function to count the letters in a string"
      ],
      "metadata": {
        "colab": {
          "base_uri": "https://localhost:8080/",
          "height": 0
        },
        "id": "OHStoSV4UuDk",
        "outputId": "8c876e7e-0d55-4138-f83c-58892a4c13f0"
      },
      "execution_count": 21,
      "outputs": [
        {
          "output_type": "execute_result",
          "data": {
            "text/plain": [
              "5"
            ]
          },
          "metadata": {},
          "execution_count": 21
        }
      ]
    },
    {
      "cell_type": "code",
      "source": [
        "a = \"Vipul\"\n",
        "length = len(a)\n",
        "print('Length:',length)"
      ],
      "metadata": {
        "colab": {
          "base_uri": "https://localhost:8080/",
          "height": 0
        },
        "id": "THQY9RG1VHE1",
        "outputId": "7d0431ff-8df8-443a-9367-94b92d1bb16b"
      },
      "execution_count": 25,
      "outputs": [
        {
          "output_type": "stream",
          "name": "stdout",
          "text": [
            "Length: 5\n"
          ]
        }
      ]
    },
    {
      "cell_type": "code",
      "source": [
        "a = \"Vipul\"\n",
        "print('Length:',len(a))"
      ],
      "metadata": {
        "colab": {
          "base_uri": "https://localhost:8080/",
          "height": 0
        },
        "id": "Li13O90QVYU1",
        "outputId": "a82b6edb-59b0-4d68-ec16-74aad25b973c"
      },
      "execution_count": 26,
      "outputs": [
        {
          "output_type": "stream",
          "name": "stdout",
          "text": [
            "Length: 5\n"
          ]
        }
      ]
    },
    {
      "cell_type": "code",
      "source": [
        "a = 'V'\n",
        "b = a*5 #to repeat the string (5 times)\n",
        "print(b)"
      ],
      "metadata": {
        "colab": {
          "base_uri": "https://localhost:8080/",
          "height": 0
        },
        "id": "1yDnnEkcV04h",
        "outputId": "ca93400d-8f07-4fcc-95e4-f6fbc03cda18"
      },
      "execution_count": 29,
      "outputs": [
        {
          "output_type": "stream",
          "name": "stdout",
          "text": [
            "VVVVV\n"
          ]
        }
      ]
    },
    {
      "cell_type": "code",
      "source": [
        "x = 'Vip '\n",
        "y = x*3\n",
        "print(y) "
      ],
      "metadata": {
        "colab": {
          "base_uri": "https://localhost:8080/",
          "height": 0
        },
        "id": "gM69EE1bWZtG",
        "outputId": "40d9313d-3b92-4f15-ae7d-2db461a0cb08"
      },
      "execution_count": 30,
      "outputs": [
        {
          "output_type": "stream",
          "name": "stdout",
          "text": [
            "Vip Vip Vip \n"
          ]
        }
      ]
    },
    {
      "cell_type": "markdown",
      "source": [
        "###String Indexing & Slicing"
      ],
      "metadata": {
        "id": "XNQaVKLLWuy8"
      }
    },
    {
      "cell_type": "code",
      "source": [
        "a = \"Vipul\"\n",
        "print(a[3])     # identifying the element based on index\n",
        "print(a[2:])    # Grab the elements starting from the index specified\n",
        "print(a[:2])    # Grab the elements upto the index but not give the indexed element\n",
        "print(a[-1])    # Grab the last element\n",
        "print(a[:-1])   # Grab all the elements except last element\n",
        "print(a[::2])   # Grab everything with 2 steps\n",
        "print(a[::-1])  # Print string backwords(inverse the string)"
      ],
      "metadata": {
        "colab": {
          "base_uri": "https://localhost:8080/",
          "height": 0
        },
        "id": "mPAxBdRJWmbX",
        "outputId": "c9662cda-78d2-441f-e8ad-81bff129fe63"
      },
      "execution_count": 43,
      "outputs": [
        {
          "output_type": "stream",
          "name": "stdout",
          "text": [
            "u\n",
            "pul\n",
            "Vi\n",
            "l\n",
            "Vipu\n",
            "Vpl\n",
            "lupiV\n"
          ]
        }
      ]
    },
    {
      "cell_type": "markdown",
      "source": [
        "###String Functions"
      ],
      "metadata": {
        "id": "cRtSP6ksasHO"
      }
    },
    {
      "cell_type": "markdown",
      "source": [
        "#### upper() function"
      ],
      "metadata": {
        "id": "HhA2L9Crevph"
      }
    },
    {
      "cell_type": "code",
      "source": [
        "a = 'vipul'\n",
        "upper_case = a.upper()\n",
        "print(upper_case)"
      ],
      "metadata": {
        "colab": {
          "base_uri": "https://localhost:8080/",
          "height": 0
        },
        "id": "8DVh7tpia9u9",
        "outputId": "cba040c6-92a7-4ddd-98fa-31941e11dd91"
      },
      "execution_count": 47,
      "outputs": [
        {
          "output_type": "stream",
          "name": "stdout",
          "text": [
            "VIPUL\n"
          ]
        }
      ]
    },
    {
      "cell_type": "markdown",
      "source": [
        "#### lower() function"
      ],
      "metadata": {
        "id": "PutpMApte7OC"
      }
    },
    {
      "cell_type": "code",
      "source": [
        "a = 'PATIL'\n",
        "lower_case = a.lower()\n",
        "print(lower_case)"
      ],
      "metadata": {
        "colab": {
          "base_uri": "https://localhost:8080/",
          "height": 0
        },
        "id": "Bt10HNTJbkLS",
        "outputId": "1297e58d-8b04-494d-928f-9fd96c26ddc7"
      },
      "execution_count": 48,
      "outputs": [
        {
          "output_type": "stream",
          "name": "stdout",
          "text": [
            "patil\n"
          ]
        }
      ]
    },
    {
      "cell_type": "code",
      "source": [
        "a = 'Vipul Patil'\n",
        "print(a.upper())  # changing to UPPER case\n",
        "print(a.lower())  # CHANGING TO lower CASE"
      ],
      "metadata": {
        "colab": {
          "base_uri": "https://localhost:8080/",
          "height": 0
        },
        "id": "eHdS-AfTXYC-",
        "outputId": "16f62bde-4a2d-4751-966b-2e7ea3c534ef"
      },
      "execution_count": 49,
      "outputs": [
        {
          "output_type": "stream",
          "name": "stdout",
          "text": [
            "VIPUL PATIL\n",
            "vipul patil\n"
          ]
        }
      ]
    },
    {
      "cell_type": "markdown",
      "source": [
        "#### splitting string using split() function"
      ],
      "metadata": {
        "id": "19hsNN6KfAoW"
      }
    },
    {
      "cell_type": "code",
      "source": [
        "a = 'Vipul Patil' \n",
        "b = a.split()   # splitting  string\n",
        "print(b)"
      ],
      "metadata": {
        "colab": {
          "base_uri": "https://localhost:8080/",
          "height": 0
        },
        "id": "fUgAqIsgbsqS",
        "outputId": "0332d6b6-bd73-4d76-ae57-99fdef3e61ca"
      },
      "execution_count": 51,
      "outputs": [
        {
          "output_type": "stream",
          "name": "stdout",
          "text": [
            "['Vipul', 'Patil']\n"
          ]
        }
      ]
    },
    {
      "cell_type": "markdown",
      "source": [
        "#### string splitting and indexing"
      ],
      "metadata": {
        "id": "Rmm8JTDLfHR0"
      }
    },
    {
      "cell_type": "code",
      "source": [
        "a = 'Vipul Patil'\n",
        "b = a.split()\n",
        "print(b[0])   # splitting string based on index"
      ],
      "metadata": {
        "colab": {
          "base_uri": "https://localhost:8080/",
          "height": 0
        },
        "id": "y60J68CFcEE0",
        "outputId": "acd626fa-18c0-4e92-bdbe-cf974ba98b41"
      },
      "execution_count": 52,
      "outputs": [
        {
          "output_type": "stream",
          "name": "stdout",
          "text": [
            "Vipul\n"
          ]
        }
      ]
    },
    {
      "cell_type": "code",
      "source": [
        "a = 'Vipul Patil'\n",
        "b = a.split()\n",
        "print('Splitted String:',b)\n",
        "print('Index 0:',b[0])\n",
        "print('Index 1:',b[1])"
      ],
      "metadata": {
        "colab": {
          "base_uri": "https://localhost:8080/",
          "height": 0
        },
        "id": "-p6MFuJ9cVeS",
        "outputId": "9cfc04c5-b380-472f-e1fe-938163826650"
      },
      "execution_count": 60,
      "outputs": [
        {
          "output_type": "stream",
          "name": "stdout",
          "text": [
            "Splitted String: ['Vipul', 'Patil']\n",
            "Index 0: Vipul\n",
            "Index 1: Patil\n"
          ]
        }
      ]
    },
    {
      "cell_type": "markdown",
      "source": [
        "#### splitting string based on Delimiter"
      ],
      "metadata": {
        "id": "0shqo2emfPUS"
      }
    },
    {
      "cell_type": "code",
      "source": [
        "c = \"ElonMusk, SteveJobs, BillGates\"\n",
        "d = c.split(',')  # splitting string based on Delimiter\n",
        "print(d)"
      ],
      "metadata": {
        "colab": {
          "base_uri": "https://localhost:8080/",
          "height": 0
        },
        "id": "YXcri2-dcxfv",
        "outputId": "0351e0ad-7807-4bd2-9c47-66760157ab82"
      },
      "execution_count": 67,
      "outputs": [
        {
          "output_type": "stream",
          "name": "stdout",
          "text": [
            "['ElonMusk', ' SteveJobs', ' BillGates']\n"
          ]
        }
      ]
    },
    {
      "cell_type": "code",
      "source": [
        "c = \"ElonMusk, SteveJobs, BillGates\"\n",
        "d = c.split(',')  # splitting string based on Delimiter\n",
        "print(d)\n",
        "print(d[1])"
      ],
      "metadata": {
        "colab": {
          "base_uri": "https://localhost:8080/",
          "height": 0
        },
        "id": "wEFddAF0eT3U",
        "outputId": "17dd86c1-e676-4f19-cff3-1a2d6b0d7467"
      },
      "execution_count": 66,
      "outputs": [
        {
          "output_type": "stream",
          "name": "stdout",
          "text": [
            "['ElonMusk', ' SteveJobs', ' BillGates']\n",
            " SteveJobs\n"
          ]
        }
      ]
    },
    {
      "cell_type": "markdown",
      "source": [
        "#### Formatting string literals"
      ],
      "metadata": {
        "id": "iVWrhUVTfl2d"
      }
    },
    {
      "cell_type": "code",
      "source": [
        "a = \"Vipul Patil\"\n",
        "print(f\"My Name is {a} ! \")  # formatting string literals"
      ],
      "metadata": {
        "colab": {
          "base_uri": "https://localhost:8080/",
          "height": 0
        },
        "id": "JWv1D0SnefAe",
        "outputId": "70898cce-842b-427b-df83-88691bd87e1d"
      },
      "execution_count": 68,
      "outputs": [
        {
          "output_type": "stream",
          "name": "stdout",
          "text": [
            "My Name is Vipul Patil ! \n"
          ]
        }
      ]
    },
    {
      "cell_type": "markdown",
      "source": [
        "##3.Lists"
      ],
      "metadata": {
        "id": "0CeC5zHUgDWg"
      }
    },
    {
      "cell_type": "markdown",
      "source": [
        "###Creating lists\n",
        "\n",
        "*   List is created using [ ] square brackets\n",
        "\n"
      ],
      "metadata": {
        "id": "JV62j5drgPba"
      }
    },
    {
      "cell_type": "code",
      "source": [
        "a = [1,2,3,4,5]\n",
        "b = [\"Vipul\", 21, 99.5]\n",
        "print(a,b)"
      ],
      "metadata": {
        "colab": {
          "base_uri": "https://localhost:8080/",
          "height": 0
        },
        "id": "k3vH7uMPf59c",
        "outputId": "9316d906-5256-47f7-d35a-6a191048d527"
      },
      "execution_count": 69,
      "outputs": [
        {
          "output_type": "stream",
          "name": "stdout",
          "text": [
            "[1, 2, 3, 4, 5] ['Vipul', 21, 99.5]\n"
          ]
        }
      ]
    },
    {
      "cell_type": "markdown",
      "source": [
        "#### Length of lists"
      ],
      "metadata": {
        "id": "LyC0hz60h5aH"
      }
    },
    {
      "cell_type": "code",
      "source": [
        "a = [1,2,3,4,5]\n",
        "b = [\"Vipul\", 21, 99.5]\n",
        "print(a,b)\n",
        "print(len(a))  #print the lenght of list a\n",
        "print(len(b))  #print the lenght of list b"
      ],
      "metadata": {
        "colab": {
          "base_uri": "https://localhost:8080/",
          "height": 0
        },
        "id": "QVIMk9kFhQV9",
        "outputId": "13fa9b49-ad17-4ce8-e89d-6cfe96e98eed"
      },
      "execution_count": 70,
      "outputs": [
        {
          "output_type": "stream",
          "name": "stdout",
          "text": [
            "[1, 2, 3, 4, 5] ['Vipul', 21, 99.5]\n",
            "5\n",
            "3\n"
          ]
        }
      ]
    },
    {
      "cell_type": "markdown",
      "source": [
        "#### locating list elements using index"
      ],
      "metadata": {
        "id": "o54fEXVeh_ar"
      }
    },
    {
      "cell_type": "code",
      "source": [
        "a = [1,2,3,4,5]\n",
        "b = [\"Vipul\", 21, 99.5]\n",
        "print(a,b)\n",
        "print(a[2])  #locate element of list a using index\n",
        "print(b[0])  #locate element of list b using index"
      ],
      "metadata": {
        "colab": {
          "base_uri": "https://localhost:8080/",
          "height": 0
        },
        "id": "GwgXSvDAhnlK",
        "outputId": "31da545f-17ee-44ad-bd59-20c76ef59805"
      },
      "execution_count": 72,
      "outputs": [
        {
          "output_type": "stream",
          "name": "stdout",
          "text": [
            "[1, 2, 3, 4, 5] ['Vipul', 21, 99.5]\n",
            "3\n",
            "Vipul\n"
          ]
        }
      ]
    },
    {
      "cell_type": "code",
      "source": [
        "a = [1,2,3,4,5]\n",
        "b = [\"Vipul\", 21, 99.5]\n",
        "print(a,b)\n",
        "print(a[1:])  #print elements of list a except first\n",
        "print(b[1:])  #print elements of list b except first"
      ],
      "metadata": {
        "colab": {
          "base_uri": "https://localhost:8080/",
          "height": 0
        },
        "id": "7ldLXDRriO9f",
        "outputId": "fc5352f8-08a6-46cd-dbde-944fa15cf533"
      },
      "execution_count": 73,
      "outputs": [
        {
          "output_type": "stream",
          "name": "stdout",
          "text": [
            "[1, 2, 3, 4, 5] ['Vipul', 21, 99.5]\n",
            "[2, 3, 4, 5]\n",
            "[21, 99.5]\n"
          ]
        }
      ]
    },
    {
      "cell_type": "code",
      "source": [
        "a = [1,2,3,4,5]\n",
        "b = [\"Vipul\", 21, 99.5]\n",
        "print(a,b)\n",
        "print(a[:2])  #print elements of list a upto 2nd element\n",
        "print(b[:2])  #print elements of list b upto 2nd element"
      ],
      "metadata": {
        "colab": {
          "base_uri": "https://localhost:8080/",
          "height": 0
        },
        "id": "wyyg4do8io4j",
        "outputId": "5481e468-1aac-4fb8-a2a6-4c57b11eaf24"
      },
      "execution_count": 74,
      "outputs": [
        {
          "output_type": "stream",
          "name": "stdout",
          "text": [
            "[1, 2, 3, 4, 5] ['Vipul', 21, 99.5]\n",
            "[1, 2]\n",
            "['Vipul', 21]\n"
          ]
        }
      ]
    },
    {
      "cell_type": "markdown",
      "source": [
        "#### Concatenating 2 lists"
      ],
      "metadata": {
        "id": "tEVPbhZxi61f"
      }
    },
    {
      "cell_type": "code",
      "source": [
        "a = [1,2,3,4,5]\n",
        "b = [\"Vipul\", 21, 99.5]\n",
        "print(a)\n",
        "print(b)\n",
        "print(\"---------------------------------------------------\")\n",
        "print(a+b)   #concatinating the lists"
      ],
      "metadata": {
        "colab": {
          "base_uri": "https://localhost:8080/",
          "height": 0
        },
        "id": "ozxV6NPti4ER",
        "outputId": "06032d93-e245-41a0-c661-dbe27aa15883"
      },
      "execution_count": 80,
      "outputs": [
        {
          "output_type": "stream",
          "name": "stdout",
          "text": [
            "[1, 2, 3, 4, 5]\n",
            "['Vipul', 21, 99.5]\n",
            "---------------------------------------------------\n",
            "[1, 2, 3, 4, 5, 'Vipul', 21, 99.5]\n"
          ]
        }
      ]
    },
    {
      "cell_type": "markdown",
      "source": [
        "###inserting new elements to the existing string\n",
        "####using append() \n",
        "\n",
        "*   adding new element\n",
        "*   bydefault added to the last index\n",
        "\n"
      ],
      "metadata": {
        "id": "tBZRUCfojv6E"
      }
    },
    {
      "cell_type": "code",
      "source": [
        "a = [1,2,3,4,5]\n",
        "a.append(6)   #adding/inserting element\n",
        "print(a)"
      ],
      "metadata": {
        "colab": {
          "base_uri": "https://localhost:8080/"
        },
        "id": "RJ88KMASjGCR",
        "outputId": "547f6621-dcb7-4477-e147-4fdf1ada2cd6"
      },
      "execution_count": 81,
      "outputs": [
        {
          "output_type": "stream",
          "name": "stdout",
          "text": [
            "[1, 2, 3, 4, 5, 6]\n"
          ]
        }
      ]
    },
    {
      "cell_type": "markdown",
      "source": [
        "#### Reverse the list using reverse()"
      ],
      "metadata": {
        "id": "yIegA7dnkk98"
      }
    },
    {
      "cell_type": "code",
      "source": [
        "a = [1,2,3,4,5]\n",
        "a.reverse()  #reverse list\n",
        "print(a)"
      ],
      "metadata": {
        "colab": {
          "base_uri": "https://localhost:8080/"
        },
        "id": "OxDeObIXkdKa",
        "outputId": "f471cb8d-7fcf-4415-b56c-815ba4f3564b"
      },
      "execution_count": 83,
      "outputs": [
        {
          "output_type": "stream",
          "name": "stdout",
          "text": [
            "[5, 4, 3, 2, 1]\n"
          ]
        }
      ]
    },
    {
      "cell_type": "markdown",
      "source": [
        "###Nested List Matrix"
      ],
      "metadata": {
        "id": "MqB3Xvq8lEaz"
      }
    },
    {
      "cell_type": "code",
      "source": [
        "a = [1,2,3]\n",
        "b = [4,5,6]\n",
        "c = [a,b]    # nested list matrix\n",
        "print(c)"
      ],
      "metadata": {
        "colab": {
          "base_uri": "https://localhost:8080/"
        },
        "id": "OJbhPUSQkzLC",
        "outputId": "c49627c4-213a-435e-da81-72f9f4a6986f"
      },
      "execution_count": 85,
      "outputs": [
        {
          "output_type": "stream",
          "name": "stdout",
          "text": [
            "[[1, 2, 3], [4, 5, 6]]\n"
          ]
        }
      ]
    },
    {
      "cell_type": "code",
      "source": [
        "a = [1,2,3]\n",
        "b = [4,5,6]\n",
        "c = [a,b]    # nested list matrix\n",
        "print(c[0])  # printing row\n",
        "print(c[1])  # printing row"
      ],
      "metadata": {
        "colab": {
          "base_uri": "https://localhost:8080/"
        },
        "id": "3QgbQ5jJlRpa",
        "outputId": "467c8223-ec3f-403e-e989-9459782c3102"
      },
      "execution_count": 90,
      "outputs": [
        {
          "output_type": "stream",
          "name": "stdout",
          "text": [
            "[1, 2, 3]\n",
            "[4, 5, 6]\n"
          ]
        }
      ]
    },
    {
      "cell_type": "code",
      "source": [
        "a = [1,2,3]\n",
        "b = [4,5,6]\n",
        "c = [a,b]       # nested list matrix\n",
        "print(c[0])     # printing row\n",
        "print(c[1])     # printing row\n",
        "print(c[0][0])  # printing first element\n",
        "print(c[1][0])  # printing first element"
      ],
      "metadata": {
        "colab": {
          "base_uri": "https://localhost:8080/"
        },
        "id": "tBAM1GvBliPp",
        "outputId": "a3328521-c68b-4b83-95d8-081c5f181f39"
      },
      "execution_count": 91,
      "outputs": [
        {
          "output_type": "stream",
          "name": "stdout",
          "text": [
            "[1, 2, 3]\n",
            "[4, 5, 6]\n",
            "1\n",
            "4\n"
          ]
        }
      ]
    },
    {
      "cell_type": "markdown",
      "source": [
        "##4.Dictionaries"
      ],
      "metadata": {
        "id": "C5IuEiDJmGto"
      }
    },
    {
      "cell_type": "markdown",
      "source": [
        "###Creating dictionary : Key & Value\n",
        "\n",
        "*   Created using { } curly braces\n",
        "*   Syntax : {key:value}\n",
        "*   example : {\"Name\" : \"Vipul\", \"Age\" : 23}\n",
        "*   to print using key, specify the key in [ ] brackets\n",
        "\n"
      ],
      "metadata": {
        "id": "ykMTJE5nmPwT"
      }
    },
    {
      "cell_type": "code",
      "source": [
        "a = {\"Name\":\"Vipul\", \"Age\":23,\"College\":[\"GPK\",\"SETI\"]}\n",
        "print(a)"
      ],
      "metadata": {
        "colab": {
          "base_uri": "https://localhost:8080/"
        },
        "id": "d2OBkGJaluq0",
        "outputId": "5a8861bb-b262-4e89-b698-7adeac452896"
      },
      "execution_count": 92,
      "outputs": [
        {
          "output_type": "stream",
          "name": "stdout",
          "text": [
            "{'Name': 'Vipul', 'Age': 23, 'College': ['GPK', 'SETI']}\n"
          ]
        }
      ]
    },
    {
      "cell_type": "markdown",
      "source": [
        "####printing values based on its key"
      ],
      "metadata": {
        "id": "mvtMlRHzoKji"
      }
    },
    {
      "cell_type": "code",
      "source": [
        "a = {\"Name\":\"Vipul\", \"Age\":23,\"College\":[\"GPK\",\"SETI\"]}\n",
        "print(a[\"Name\"])   #printing values based on its key\n",
        "print(a[\"Age\"])   #printing values based on its key"
      ],
      "metadata": {
        "colab": {
          "base_uri": "https://localhost:8080/"
        },
        "id": "zpKF1IUnnX8n",
        "outputId": "b5774410-51c5-4bc1-a8af-354b5d641cd8"
      },
      "execution_count": 95,
      "outputs": [
        {
          "output_type": "stream",
          "name": "stdout",
          "text": [
            "Vipul\n",
            "23\n"
          ]
        }
      ]
    },
    {
      "cell_type": "markdown",
      "source": [
        "#### Changing the values "
      ],
      "metadata": {
        "id": "FDrUMeHQogt3"
      }
    },
    {
      "cell_type": "code",
      "source": [
        "a = {\"Name\":\"Vipul\", \"Age\":23,\"College\":[\"GPK\",\"SETI\"]}\n",
        "a[\"Age\"] = 25   # changing the values\n",
        "print(a)"
      ],
      "metadata": {
        "colab": {
          "base_uri": "https://localhost:8080/"
        },
        "id": "TXPOR2XYoNHA",
        "outputId": "5ab01149-4908-4210-8cc7-a8a89f060b17"
      },
      "execution_count": 96,
      "outputs": [
        {
          "output_type": "stream",
          "name": "stdout",
          "text": [
            "{'Name': 'Vipul', 'Age': 25, 'College': ['GPK', 'SETI']}\n"
          ]
        }
      ]
    },
    {
      "cell_type": "code",
      "source": [
        "b= {\"Climate\": {\"Condition\": {\"Temperature\":\"38 Degree\",\"Humidity\":\"70 Percent\"}}}\n",
        "print(b)"
      ],
      "metadata": {
        "colab": {
          "base_uri": "https://localhost:8080/"
        },
        "id": "kmwgHEjMoV53",
        "outputId": "33456e26-957f-4ddc-8c24-bd9dab7c2247"
      },
      "execution_count": 97,
      "outputs": [
        {
          "output_type": "stream",
          "name": "stdout",
          "text": [
            "{'Climate': {'Condition': {'Temperature': '38 Degree', 'Humidity': '70 Percent'}}}\n"
          ]
        }
      ]
    },
    {
      "cell_type": "code",
      "source": [
        "b= {\"Climate\": {\"Condition\": {\"Temperature\":\"38 Degree\",\"Humidity\":\"70 Percent\"}}}\n",
        "print(b)\n",
        "print(b[\"Climate\"])"
      ],
      "metadata": {
        "colab": {
          "base_uri": "https://localhost:8080/"
        },
        "id": "AMDug-Yzp-hc",
        "outputId": "dbf46215-6045-4dea-e0a8-b8b799ecfa6b"
      },
      "execution_count": 100,
      "outputs": [
        {
          "output_type": "stream",
          "name": "stdout",
          "text": [
            "{'Climate': {'Condition': {'Temperature': '38 Degree', 'Humidity': '70 Percent'}}}\n",
            "{'Condition': {'Temperature': '38 Degree', 'Humidity': '70 Percent'}}\n"
          ]
        }
      ]
    },
    {
      "cell_type": "code",
      "source": [
        "b= {\"Climate\": {\"Condition\": {\"Temperature\":\"38 Degree\",\"Humidity\":\"70 Percent\"}}}\n",
        "print(b)\n",
        "print(b[\"Climate\"])\n",
        "print(b[\"Climate\"][\"Condition\"])"
      ],
      "metadata": {
        "colab": {
          "base_uri": "https://localhost:8080/"
        },
        "id": "mbBNa-4XqEcH",
        "outputId": "2dbae2a8-fb15-43e4-d50c-df9f213bc68d"
      },
      "execution_count": 101,
      "outputs": [
        {
          "output_type": "stream",
          "name": "stdout",
          "text": [
            "{'Climate': {'Condition': {'Temperature': '38 Degree', 'Humidity': '70 Percent'}}}\n",
            "{'Condition': {'Temperature': '38 Degree', 'Humidity': '70 Percent'}}\n",
            "{'Temperature': '38 Degree', 'Humidity': '70 Percent'}\n"
          ]
        }
      ]
    },
    {
      "cell_type": "code",
      "source": [
        "b= {\"Climate\": {\"Condition\": {\"Temperature\":\"38 Degree\",\"Humidity\":\"70 Percent\"}}}\n",
        "print(b)\n",
        "print(b[\"Climate\"])\n",
        "print(b[\"Climate\"][\"Condition\"])\n",
        "print(b[\"Climate\"][\"Condition\"][\"Temperature\"])"
      ],
      "metadata": {
        "colab": {
          "base_uri": "https://localhost:8080/"
        },
        "id": "ky9oHuZ3qcmS",
        "outputId": "c9a0416d-9201-4200-f67c-b280d5188455"
      },
      "execution_count": 102,
      "outputs": [
        {
          "output_type": "stream",
          "name": "stdout",
          "text": [
            "{'Climate': {'Condition': {'Temperature': '38 Degree', 'Humidity': '70 Percent'}}}\n",
            "{'Condition': {'Temperature': '38 Degree', 'Humidity': '70 Percent'}}\n",
            "{'Temperature': '38 Degree', 'Humidity': '70 Percent'}\n",
            "38 Degree\n"
          ]
        }
      ]
    },
    {
      "cell_type": "code",
      "source": [
        "b= {\"Climate\": {\"Condition\": {\"Temperature\":\"38 Degree\",\"Humidity\":\"70 Percent\"}}}\n",
        "print(b)\n",
        "print(b[\"Climate\"])\n",
        "print(b[\"Climate\"][\"Condition\"])\n",
        "print(b[\"Climate\"][\"Condition\"][\"Humidity\"])"
      ],
      "metadata": {
        "colab": {
          "base_uri": "https://localhost:8080/"
        },
        "id": "h4zxAzFmqkYg",
        "outputId": "fbc190f7-bde4-40fe-c419-9d0e44f789db"
      },
      "execution_count": 103,
      "outputs": [
        {
          "output_type": "stream",
          "name": "stdout",
          "text": [
            "{'Climate': {'Condition': {'Temperature': '38 Degree', 'Humidity': '70 Percent'}}}\n",
            "{'Condition': {'Temperature': '38 Degree', 'Humidity': '70 Percent'}}\n",
            "{'Temperature': '38 Degree', 'Humidity': '70 Percent'}\n",
            "70 Percent\n"
          ]
        }
      ]
    },
    {
      "cell_type": "code",
      "source": [
        "a = {\"Name\":\"Vipul\", \"Age\":23,\"College\":[\"GPK\",\"SETI\"]}\n",
        "print(a.keys())   #printing the keys of dictionary\n",
        "print(a.values()) #printing the values of dictionary\n",
        "print(a.items())  #printing tuples of all the items"
      ],
      "metadata": {
        "colab": {
          "base_uri": "https://localhost:8080/"
        },
        "id": "OO8Ic7kRqp5f",
        "outputId": "96f3b490-6136-4460-c2ac-5c5e9fa41cae"
      },
      "execution_count": 104,
      "outputs": [
        {
          "output_type": "stream",
          "name": "stdout",
          "text": [
            "dict_keys(['Name', 'Age', 'College'])\n",
            "dict_values(['Vipul', 23, ['GPK', 'SETI']])\n",
            "dict_items([('Name', 'Vipul'), ('Age', 23), ('College', ['GPK', 'SETI'])])\n"
          ]
        }
      ]
    },
    {
      "cell_type": "markdown",
      "source": [
        "##5.Tuples"
      ],
      "metadata": {
        "id": "fvBO7YIG46A4"
      }
    },
    {
      "cell_type": "markdown",
      "source": [
        "###Creating Tuple"
      ],
      "metadata": {
        "id": "qC32H67u49hU"
      }
    },
    {
      "cell_type": "code",
      "source": [],
      "metadata": {
        "id": "OuWbIGaQrQhD"
      },
      "execution_count": null,
      "outputs": []
    }
  ]
}